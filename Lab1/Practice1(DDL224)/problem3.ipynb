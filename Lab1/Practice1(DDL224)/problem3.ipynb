{
 "cells": [
  {
   "cell_type": "markdown",
   "metadata": {},
   "source": [
    "### Snake: Simulate a snake game and print the game results.\n",
    "\n",
    "You are given a map that ‘x’ represents a rock, ‘-’represents a space, ‘#’represents the body of snake. ‘@’represent the head of the snake and a sequence of actions that ‘0,1,2,3’represent to move to up/down/left/right correspondingly for one step.\n",
    "A greedy snake starts in the map state and moves one step per unit of time according to the sequence of actions until all actions complete or fail. It will fail when the head and the stone overlap, the head goes beyond the boundary, or the head overlaps the body. \n",
    "\n",
    "#### Input\n",
    "A matrix with type char (the map). \n",
    "A sequence with type int (the motions). \n",
    "\n",
    "#### Output\n",
    "the the result of the game:\n",
    "If it failed, output the running time of the game.\n",
    "If it didn’t fail, output the final position of the head (in the form “%d, %d”)."
   ]
  },
  {
   "cell_type": "code",
   "execution_count": null,
   "metadata": {
    "pycharm": {
     "is_executing": true
    }
   },
   "outputs": [],
   "source": [
    "\"\"\"\n",
    "Example:\n",
    "input:\n",
    "map:\n",
    "---------\n",
    "------x--\n",
    "-x-------\n",
    "---@-----\n",
    "---##----\n",
    "------x--\n",
    "--x----x-\n",
    "-x-------\n",
    "---------\n",
    "action:\n",
    "0 0 3 3 0 3 3 1 1 1 1 1 3 1 1 2 2 2 2 2\n",
    "\n",
    "output:\n",
    "7 3\n",
    "\"\"\""
   ]
  },
  {
   "cell_type": "code",
   "execution_count": 1,
   "metadata": {},
   "outputs": [],
   "source": [
    "def game():\n",
    "    n = len(game_map)\n",
    "    m = len(game_map[0])\n",
    "    head = (-1, -1);\n",
    "    for i in range(0, n-1):\n",
    "        for j in range(0, m-1):\n",
    "            if game_map[i][j] == '@':\n",
    "                head = (i, j)\n",
    "                break\n",
    "        if head != (-1, -1):\n",
    "            break\n",
    "    bool_map = [[False for j in range(m)] for i in range(n)]\n",
    "    for i in range(0, n):\n",
    "        for j in range(0, m):\n",
    "            if game_map[i][j] == '#' or game_map[i][j] == 'x':\n",
    "                bool_map[i][j] = True\n",
    "    front = [[(-1, -1) for j in range(m)] for i in range(n)]\n",
    "    mx = [-1, 1, 0, 0]\n",
    "    my = [0, 0, -1, 1]\n",
    "    pos = head\n",
    "    while (True):\n",
    "        flag = False\n",
    "        for k in range(0, 4):\n",
    "            dest = (pos[0]+mx[k], pos[1]+my[k])\n",
    "            if (dest != front[pos[0]][pos[1]] and game_map[dest[0]][dest[1]] == '#'):\n",
    "                flag = True\n",
    "                front[dest[0]][dest[1]] = pos;\n",
    "                pos = dest\n",
    "                break\n",
    "        if (flag == False):\n",
    "            tail = pos\n",
    "            break\n",
    "    for t in range(0, len(actions)):\n",
    "        dest = (head[0]+mx[actions[t]], head[1]+my[actions[t]])\n",
    "        if dest[0] < 0 or dest[0] >= n or dest[1] < 0 or dest[1] >= m or bool_map[dest[0]][dest[1]] == True:\n",
    "            return t+1\n",
    "        bool_map[head[0]][head[1]] = True\n",
    "        bool_map[tail[0]][tail[1]] = False\n",
    "        tail = front[tail[0]][tail[1]]\n",
    "        front[head[0]][head[1]] = dest\n",
    "        head = dest\n",
    "    return head\n"
   ]
  },
  {
   "cell_type": "code",
   "execution_count": 4,
   "metadata": {},
   "outputs": [
    {
     "name": "stdout",
     "output_type": "stream",
     "text": [
      "[['-', '-', '-', '-', '-', '-', '-', '-', '-'], ['-', '-', '-', '-', '-', '-', 'x', '-', '-'], ['-', 'x', '-', '-', '-', '-', '-', '-', '-'], ['-', '-', '-', '@', '-', '-', '-', '-', '-'], ['-', '-', '-', '#', '#', '-', '-', '-', '-'], ['-', '-', '-', '-', '-', '-', 'x', '-', '-'], ['-', '-', 'x', '-', '-', '-', '-', 'x', '-'], ['-', 'x', '-', '-', '-', '-', '-', '-', '-'], ['-', '-', '-', '-', '-', '-', '-', '-', '-']]\n",
      "[0, 0, 2, 0, 3, 3, 3, 3, 3, 3, 3, 3, 0, 3, 3, 1, 1, 1, 1, 1, 3, 1, 1, 2, 2, 2, 2, 2]\n",
      "11\n"
     ]
    }
   ],
   "source": [
    "test_case = 2\n",
    "with open(f'test_cases/problem3/{test_case}-map.txt', 'r') as f:\n",
    "    game_map = [list(line.strip()) for line in f.readlines()]\n",
    "print(game_map)\n",
    "with open(f'./test_cases/problem3/{test_case}-actions.txt', 'r') as f:\n",
    "    actions = [*map(int, f.read().split(' '))]\n",
    "print(actions)\n",
    "print(game())"
   ]
  }
 ],
 "metadata": {
  "kernelspec": {
   "display_name": "base",
   "language": "python",
   "name": "python3"
  },
  "language_info": {
   "codemirror_mode": {
    "name": "ipython",
    "version": 3
   },
   "file_extension": ".py",
   "mimetype": "text/x-python",
   "name": "python",
   "nbconvert_exporter": "python",
   "pygments_lexer": "ipython3",
   "version": "3.9.13"
  },
  "vscode": {
   "interpreter": {
    "hash": "e42634819b8c191a5d07eaf23810ff32516dd8d3875f28ec3e488928fbd3c187"
   }
  }
 },
 "nbformat": 4,
 "nbformat_minor": 1
}
