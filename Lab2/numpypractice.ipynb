{
 "cells": [
  {
   "cell_type": "markdown",
   "id": "64da1d8e",
   "metadata": {},
   "source": [
    "## Practice\n",
    "\n",
    "1. Create a 10*10 ndarray object, and the matrix boundary value is 1, and the rest are 0.\n"
   ]
  },
  {
   "cell_type": "code",
   "execution_count": 1,
   "id": "035382e3",
   "metadata": {},
   "outputs": [
    {
     "data": {
      "text/plain": [
       "array([[1, 1, 1, 1, 1, 1, 1, 1, 1, 1],\n",
       "       [1, 0, 0, 0, 0, 0, 0, 0, 0, 1],\n",
       "       [1, 0, 0, 0, 0, 0, 0, 0, 0, 1],\n",
       "       [1, 0, 0, 0, 0, 0, 0, 0, 0, 1],\n",
       "       [1, 0, 0, 0, 0, 0, 0, 0, 0, 1],\n",
       "       [1, 0, 0, 0, 0, 0, 0, 0, 0, 1],\n",
       "       [1, 0, 0, 0, 0, 0, 0, 0, 0, 1],\n",
       "       [1, 0, 0, 0, 0, 0, 0, 0, 0, 1],\n",
       "       [1, 0, 0, 0, 0, 0, 0, 0, 0, 1],\n",
       "       [1, 1, 1, 1, 1, 1, 1, 1, 1, 1]])"
      ]
     },
     "execution_count": 1,
     "metadata": {},
     "output_type": "execute_result"
    }
   ],
   "source": [
    "import numpy as np\n",
    "#1\n",
    "a = np.zeros((8, 8), dtype=int)\n",
    "a = np.vstack([np.ones(8, dtype=int), a])\n",
    "a = np.vstack([a, np.ones(8, dtype=int)])\n",
    "a = np.hstack([np.ones((10, 1), dtype=int), a])\n",
    "np.hstack([a, np.ones((10, 1), dtype=int)])"
   ]
  },
  {
   "cell_type": "markdown",
   "id": "8d3b3c80",
   "metadata": {},
   "source": [
    "2. Create a 5*5 matrix with each row being 0 to 4"
   ]
  },
  {
   "cell_type": "code",
   "execution_count": 2,
   "id": "6c26347e",
   "metadata": {},
   "outputs": [
    {
     "data": {
      "text/plain": [
       "array([[0, 1, 2, 3, 4],\n",
       "       [0, 1, 2, 3, 4],\n",
       "       [0, 1, 2, 3, 4],\n",
       "       [0, 1, 2, 3, 4],\n",
       "       [0, 1, 2, 3, 4]])"
      ]
     },
     "execution_count": 2,
     "metadata": {},
     "output_type": "execute_result"
    }
   ],
   "source": [
    "#2\n",
    "np.tile(np.arange(5), (5, 1))"
   ]
  },
  {
   "cell_type": "markdown",
   "id": "8b226308",
   "metadata": {},
   "source": [
    "3. Create an 8*8 matrix and fill it with a checkerboard pattern, like [[0,1],[1,0]])"
   ]
  },
  {
   "cell_type": "code",
   "execution_count": 3,
   "id": "e83e8494",
   "metadata": {},
   "outputs": [
    {
     "data": {
      "text/plain": [
       "array([[0, 1, 0, 1, 0, 1, 0, 1],\n",
       "       [1, 0, 1, 0, 1, 0, 1, 0],\n",
       "       [0, 1, 0, 1, 0, 1, 0, 1],\n",
       "       [1, 0, 1, 0, 1, 0, 1, 0],\n",
       "       [0, 1, 0, 1, 0, 1, 0, 1],\n",
       "       [1, 0, 1, 0, 1, 0, 1, 0],\n",
       "       [0, 1, 0, 1, 0, 1, 0, 1],\n",
       "       [1, 0, 1, 0, 1, 0, 1, 0]])"
      ]
     },
     "execution_count": 3,
     "metadata": {},
     "output_type": "execute_result"
    }
   ],
   "source": [
    "#3\n",
    "a = np.array([[0, 1], [1, 0]])\n",
    "np.tile(a, (4, 4))"
   ]
  },
  {
   "cell_type": "markdown",
   "id": "04663245",
   "metadata": {},
   "source": [
    "4. output all the odd numbers in the array  \n",
    "   Example:  \n",
    "   in:    arr = np.array([0, 1, 2, 3, 4, 5, 6, 7, 8, 9])  \n",
    "   out:   array([1, 3, 5, 7, 9])  "
   ]
  },
  {
   "cell_type": "code",
   "execution_count": 4,
   "id": "7964df33",
   "metadata": {},
   "outputs": [
    {
     "data": {
      "text/plain": [
       "array([1, 3, 5, 7, 9])"
      ]
     },
     "execution_count": 4,
     "metadata": {},
     "output_type": "execute_result"
    }
   ],
   "source": [
    "#4\n",
    "a = np.array([0, 1, 2, 3, 4, 5, 6, 7, 8, 9])\n",
    "a[a%2 == 1]"
   ]
  },
  {
   "cell_type": "markdown",
   "id": "fc506104",
   "metadata": {},
   "source": [
    "5. Normalize a 5x5 random matrix "
   ]
  },
  {
   "cell_type": "code",
   "execution_count": 5,
   "id": "972284fd",
   "metadata": {},
   "outputs": [
    {
     "data": {
      "text/plain": [
       "array([[-0.38211633,  1.66142011, -1.10101393,  1.08534839, -0.534766  ],\n",
       "       [-0.87403007,  0.47493666,  0.38045703, -0.36454941,  1.55445781],\n",
       "       [ 0.90819509,  0.84020649, -1.04836356, -1.26988707, -1.38885973],\n",
       "       [-0.08226932,  0.21362302, -0.99461267,  0.15288437,  1.51575719],\n",
       "       [-0.50506126, -1.77967852,  1.62937844,  0.19787064, -0.28932737]])"
      ]
     },
     "execution_count": 5,
     "metadata": {},
     "output_type": "execute_result"
    }
   ],
   "source": [
    "#5\n",
    "a = np.random.rand(5, 5)\n",
    "a -= np.mean(a)\n",
    "a /= np.std(a)\n",
    "a"
   ]
  },
  {
   "cell_type": "markdown",
   "id": "df87456c",
   "metadata": {},
   "source": [
    "6. Consider a random 10x2 matrix representing cartesian coordinates, convert them to polar coordinates."
   ]
  },
  {
   "cell_type": "code",
   "execution_count": 6,
   "id": "125feb23",
   "metadata": {},
   "outputs": [
    {
     "data": {
      "text/plain": [
       "(array([0.43679155, 0.94117033, 0.83296457, 1.18279739, 1.01309448,\n",
       "        0.14375847, 1.04789925, 0.80793   , 0.98937445, 1.02673747]),\n",
       " array([0.30320034, 1.30810072, 1.46750105, 0.98829245, 0.91936092,\n",
       "        1.08705016, 0.44595433, 1.45415938, 1.11020306, 0.54734367]))"
      ]
     },
     "execution_count": 6,
     "metadata": {},
     "output_type": "execute_result"
    }
   ],
   "source": [
    "#6\n",
    "c = np.random.rand(10, 2)\n",
    "d = np.hypot(c[:,0], c[:,1])\n",
    "r = np.arctan2(c[:,1], c[:,0])\n",
    "d, r"
   ]
  },
  {
   "cell_type": "markdown",
   "id": "c1cedf1f",
   "metadata": {},
   "source": [
    "7. Consider the vector [1, 2, 3, 4, 5], how to build a new vector with 3 consecutive zeros interleaved between each value?"
   ]
  },
  {
   "cell_type": "code",
   "execution_count": 8,
   "id": "c8a88dfd",
   "metadata": {},
   "outputs": [
    {
     "data": {
      "text/plain": [
       "array([1, 0, 0, 0, 2, 0, 0, 0, 3, 0, 0, 0, 4, 0, 0, 0, 5])"
      ]
     },
     "execution_count": 8,
     "metadata": {},
     "output_type": "execute_result"
    }
   ],
   "source": [
    "#7\n",
    "np.insert([1, 2, 3, 4, 5], np.tile(np.arange(1, 5), 3), np.zeros(12))"
   ]
  },
  {
   "cell_type": "markdown",
   "id": "c7ea103c",
   "metadata": {},
   "source": [
    "8. What are the result of the following expressions?\n",
    "\n",
    "0 * np.nan\n",
    "\n",
    "np.nan == np.nan\n",
    "\n",
    "np.inf > np.nan\n",
    "\n",
    "np.nan - np.nan\n",
    "\n",
    "np.nan in set([np.nan])\n",
    "\n",
    "0.3 == 3 * 0.1 \n",
    "\n",
    "(hint1:nan means not a number \n",
    "hint2:0.1(10) == 0.0001100110011001100110011001100110011001100110011...(2))\n",
    "First guess a result, then print the result, and finally find why"
   ]
  },
  {
   "cell_type": "code",
   "execution_count": 9,
   "id": "ee65170c",
   "metadata": {},
   "outputs": [
    {
     "data": {
      "text/plain": [
       "(nan, False, False, nan, True, False)"
      ]
     },
     "execution_count": 9,
     "metadata": {},
     "output_type": "execute_result"
    }
   ],
   "source": [
    "#8\n",
    "0*np.nan, np.nan == np.nan, np.inf > np.nan, np.nan - np.nan, np.nan in set([np.nan]), 0.3 == 3 * 0.1"
   ]
  },
  {
   "cell_type": "markdown",
   "id": "7218ef9e",
   "metadata": {},
   "source": [
    "9. What are the result of the following expressions? (Hint: the type of pn.nan is float)\n",
    "\n",
    "np.array(0) / np.array(0)\n",
    "\n",
    "np.array(0) // np.array(0)\n",
    "\n",
    "np.array([np.nan]).astype(int).astype(float)\n",
    "\n",
    "\n",
    "First guess a result, then print the result, and finally find why "
   ]
  },
  {
   "cell_type": "code",
   "execution_count": 10,
   "id": "cc0b2732",
   "metadata": {},
   "outputs": [
    {
     "name": "stderr",
     "output_type": "stream",
     "text": [
      "C:\\Users\\lenovo\\AppData\\Local\\Temp\\ipykernel_34464\\1011324921.py:2: RuntimeWarning: invalid value encountered in true_divide\n",
      "  np.array(0)/np.array(0), np.array(0)//np.array(0), np.array([np.nan]).astype(int).astype(float)\n",
      "C:\\Users\\lenovo\\AppData\\Local\\Temp\\ipykernel_34464\\1011324921.py:2: RuntimeWarning: divide by zero encountered in floor_divide\n",
      "  np.array(0)/np.array(0), np.array(0)//np.array(0), np.array([np.nan]).astype(int).astype(float)\n"
     ]
    },
    {
     "data": {
      "text/plain": [
       "(nan, 0, array([-2.14748365e+09]))"
      ]
     },
     "execution_count": 10,
     "metadata": {},
     "output_type": "execute_result"
    }
   ],
   "source": [
    "#9\n",
    "np.array(0)/np.array(0), np.array(0)//np.array(0), np.array([np.nan]).astype(int).astype(float)"
   ]
  },
  {
   "cell_type": "code",
   "execution_count": null,
   "id": "4f13333b",
   "metadata": {},
   "outputs": [],
   "source": []
  }
 ],
 "metadata": {
  "kernelspec": {
   "display_name": "base",
   "language": "python",
   "name": "python3"
  },
  "language_info": {
   "codemirror_mode": {
    "name": "ipython",
    "version": 3
   },
   "file_extension": ".py",
   "mimetype": "text/x-python",
   "name": "python",
   "nbconvert_exporter": "python",
   "pygments_lexer": "ipython3",
   "version": "3.9.13"
  },
  "vscode": {
   "interpreter": {
    "hash": "e42634819b8c191a5d07eaf23810ff32516dd8d3875f28ec3e488928fbd3c187"
   }
  }
 },
 "nbformat": 4,
 "nbformat_minor": 5
}
